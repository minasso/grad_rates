{
 "cells": [
  {
   "cell_type": "markdown",
   "metadata": {},
   "source": [
    "Get to school via search results (selenium)"
   ]
  },
  {
   "cell_type": "code",
   "execution_count": 79,
   "metadata": {
    "collapsed": true
   },
   "outputs": [],
   "source": [
    "def get_school(school):\n",
    "    '''Get to school via search results using selenium'''\n",
    "    from selenium import webdriver\n",
    "    from selenium.webdriver.common.keys import Keys\n",
    "    link = 'http://www.ratemyprofessors.com/search.jsp?query={}'.format(school)\n",
    "    driver = webdriver.Chrome()\n",
    "    driver.get(link)\n",
    "    x = '//*[@id=\"cookie_notice\"]/a[2]'\n",
    "    driver.find_element_by_xpath(x).click()\n",
    "    first_result = '//*[@id=\"searchResultsBox\"]/div[2]/ul/li[1]/a/span[2]/span[1]'\n",
    "    driver.find_element_by_xpath(first_result).click()\n",
    "    return driver.current_url"
   ]
  },
  {
   "cell_type": "markdown",
   "metadata": {},
   "source": [
    "Get rating for a single school given school url (bs4)"
   ]
  },
  {
   "cell_type": "code",
   "execution_count": 197,
   "metadata": {
    "collapsed": true
   },
   "outputs": [],
   "source": [
    "def get_rating(url):\n",
    "    '''Get rating for a school given school url using bs4'''\n",
    "    from bs4 import BeautifulSoup\n",
    "    import requests\n",
    "    import numpy as np\n",
    "    headers={'User-Agent': 'Mozilla/5.0'}\n",
    "    req = requests.get(url, headers = headers)\n",
    "    soup = BeautifulSoup(req.text,'lxml')\n",
    "    try:\n",
    "        avg_prof_rating = soup.find(class_='score medium').text\n",
    "    except:\n",
    "        avg_prof_rating = np.nan\n",
    "    return avg_prof_rating"
   ]
  },
  {
   "cell_type": "code",
   "execution_count": 195,
   "metadata": {
    "collapsed": true
   },
   "outputs": [],
   "source": [
    "import numpy as np"
   ]
  },
  {
   "cell_type": "markdown",
   "metadata": {},
   "source": [
    "Find all urls for California state university"
   ]
  },
  {
   "cell_type": "code",
   "execution_count": 92,
   "metadata": {
    "collapsed": true
   },
   "outputs": [],
   "source": [
    "link='http://www.ratemyprofessors.com/search.jsp?queryBy=schoolName&queryoption=HEADER&query=California+State+University&facetSearch=true'"
   ]
  },
  {
   "cell_type": "code",
   "execution_count": 93,
   "metadata": {
    "collapsed": true
   },
   "outputs": [],
   "source": [
    "def get_soup(url):\n",
    "    '''Get bs4 obj for a given school url'''\n",
    "    from bs4 import BeautifulSoup\n",
    "    import requests\n",
    "    headers={'User-Agent': 'Mozilla/5.0'}\n",
    "    req = requests.get(url, headers = headers)\n",
    "    soup = BeautifulSoup(req.text,'lxml')\n",
    "    return soup"
   ]
  },
  {
   "cell_type": "code",
   "execution_count": 94,
   "metadata": {
    "collapsed": true
   },
   "outputs": [],
   "source": [
    "soup = get_soup(link)"
   ]
  },
  {
   "cell_type": "code",
   "execution_count": 147,
   "metadata": {},
   "outputs": [],
   "source": [
    "listings = soup.find_all('li',class_='listing SCHOOL')\n",
    "dic={}\n",
    "base = 'http://www.ratemyprofessors.com'\n",
    "for l in listings:\n",
    "    sid_url = l.a.get('href')\n",
    "    school_name = l.find('span',class_='main').text\n",
    "    dic[school_name]=base+sid_url"
   ]
  },
  {
   "cell_type": "code",
   "execution_count": 148,
   "metadata": {
    "collapsed": true
   },
   "outputs": [
    {
     "data": {
      "text/plain": [
       "{'California Polytechnic State University': 'http://www.ratemyprofessors.com/campusRatings.jsp?sid=153',\n",
       " 'California State Polytechnic University, Pomona': 'http://www.ratemyprofessors.com/campusRatings.jsp?sid=14774',\n",
       " 'California State University': 'http://www.ratemyprofessors.com/campusRatings.jsp?sid=14767',\n",
       " 'California State University -  East Bay': 'http://www.ratemyprofessors.com/campusRatings.jsp?sid=167',\n",
       " 'California State University Antelope Valley': 'http://www.ratemyprofessors.com/campusRatings.jsp?sid=5802',\n",
       " 'California State University Bakersfield (CSUB)': 'http://www.ratemyprofessors.com/campusRatings.jsp?sid=158',\n",
       " 'California State University Channel Islands': 'http://www.ratemyprofessors.com/campusRatings.jsp?sid=4766',\n",
       " 'California State University Chico': 'http://www.ratemyprofessors.com/campusRatings.jsp?sid=159',\n",
       " 'California State University Dominguez Hills': 'http://www.ratemyprofessors.com/campusRatings.jsp?sid=160',\n",
       " 'California State University Fresno': 'http://www.ratemyprofessors.com/campusRatings.jsp?sid=161',\n",
       " 'California State University Fullerton': 'http://www.ratemyprofessors.com/campusRatings.jsp?sid=166',\n",
       " 'California State University Long Beach': 'http://www.ratemyprofessors.com/campusRatings.jsp?sid=162',\n",
       " 'California State University Los Angeles': 'http://www.ratemyprofessors.com/campusRatings.jsp?sid=157',\n",
       " 'California State University Monterey Bay': 'http://www.ratemyprofessors.com/campusRatings.jsp?sid=168',\n",
       " 'California State University San Bernardino': 'http://www.ratemyprofessors.com/campusRatings.jsp?sid=165',\n",
       " 'California State University San Marcos': 'http://www.ratemyprofessors.com/campusRatings.jsp?sid=155',\n",
       " 'California State University Stanislaus': 'http://www.ratemyprofessors.com/campusRatings.jsp?sid=156',\n",
       " 'California State University, Northridge': 'http://www.ratemyprofessors.com/campusRatings.jsp?sid=163',\n",
       " 'California State University, Sacramento': 'http://www.ratemyprofessors.com/campusRatings.jsp?sid=164'}"
      ]
     },
     "execution_count": 148,
     "metadata": {},
     "output_type": "execute_result"
    }
   ],
   "source": [
    "dic"
   ]
  },
  {
   "cell_type": "markdown",
   "metadata": {},
   "source": [
    "Create dataframe"
   ]
  },
  {
   "cell_type": "code",
   "execution_count": 117,
   "metadata": {
    "collapsed": true
   },
   "outputs": [],
   "source": [
    "import pandas as pd"
   ]
  },
  {
   "cell_type": "code",
   "execution_count": 149,
   "metadata": {
    "collapsed": true
   },
   "outputs": [
    {
     "data": {
      "text/html": [
       "<div>\n",
       "<table border=\"1\" class=\"dataframe\">\n",
       "  <thead>\n",
       "    <tr style=\"text-align: right;\">\n",
       "      <th></th>\n",
       "      <th>0</th>\n",
       "    </tr>\n",
       "  </thead>\n",
       "  <tbody>\n",
       "    <tr>\n",
       "      <th>California State University Antelope Valley</th>\n",
       "      <td>http://www.ratemyprofessors.com/campusRatings....</td>\n",
       "    </tr>\n",
       "    <tr>\n",
       "      <th>California State Polytechnic University, Pomona</th>\n",
       "      <td>http://www.ratemyprofessors.com/campusRatings....</td>\n",
       "    </tr>\n",
       "    <tr>\n",
       "      <th>California Polytechnic State University</th>\n",
       "      <td>http://www.ratemyprofessors.com/campusRatings....</td>\n",
       "    </tr>\n",
       "    <tr>\n",
       "      <th>California State University -  East Bay</th>\n",
       "      <td>http://www.ratemyprofessors.com/campusRatings....</td>\n",
       "    </tr>\n",
       "    <tr>\n",
       "      <th>California State University, Northridge</th>\n",
       "      <td>http://www.ratemyprofessors.com/campusRatings....</td>\n",
       "    </tr>\n",
       "  </tbody>\n",
       "</table>\n",
       "</div>"
      ],
      "text/plain": [
       "                                                                                                 0\n",
       "California State University Antelope Valley      http://www.ratemyprofessors.com/campusRatings....\n",
       "California State Polytechnic University, Pomona  http://www.ratemyprofessors.com/campusRatings....\n",
       "California Polytechnic State University          http://www.ratemyprofessors.com/campusRatings....\n",
       "California State University -  East Bay          http://www.ratemyprofessors.com/campusRatings....\n",
       "California State University, Northridge          http://www.ratemyprofessors.com/campusRatings...."
      ]
     },
     "execution_count": 149,
     "metadata": {},
     "output_type": "execute_result"
    }
   ],
   "source": [
    "df = pd.DataFrame.from_dict(dic,orient='index')"
   ]
  },
  {
   "cell_type": "code",
   "execution_count": 155,
   "metadata": {},
   "outputs": [],
   "source": [
    "df.reset_index(inplace=True)"
   ]
  },
  {
   "cell_type": "code",
   "execution_count": 161,
   "metadata": {},
   "outputs": [],
   "source": [
    "df.columns=['school','url']"
   ]
  },
  {
   "cell_type": "code",
   "execution_count": 179,
   "metadata": {},
   "outputs": [],
   "source": [
    "df['sid']=df['url'].apply(lambda x:x.replace('http://www.ratemyprofessors.com/campusRatings.jsp?sid=',''))"
   ]
  },
  {
   "cell_type": "code",
   "execution_count": 200,
   "metadata": {
    "collapsed": true
   },
   "outputs": [],
   "source": [
    "df['rating']=df['url'].apply(get_rating)"
   ]
  },
  {
   "cell_type": "code",
   "execution_count": 251,
   "metadata": {},
   "outputs": [],
   "source": [
    "df.drop('rating',axis=1,inplace=True)"
   ]
  },
  {
   "cell_type": "markdown",
   "metadata": {},
   "source": [
    "Now that I have it for one rating, do it for all ratings"
   ]
  },
  {
   "cell_type": "code",
   "execution_count": 247,
   "metadata": {
    "collapsed": true
   },
   "outputs": [],
   "source": [
    "def get_ratings(url):\n",
    "    '''Get all ratings for a school given school url using bs4'''\n",
    "    from bs4 import BeautifulSoup\n",
    "    import requests\n",
    "    import numpy as np\n",
    "    headers={'User-Agent': 'Mozilla/5.0'}\n",
    "    req = requests.get(url, headers = headers)\n",
    "    soup = BeautifulSoup(req.text,'lxml')\n",
    "    overalls = soup.find_all(class_='overall-rating')\n",
    "    avg_prof_rating,overall_rating = [o.find('span').text for o in overalls]\n",
    "    return overall_rating, avg_prof_rating"
   ]
  },
  {
   "cell_type": "code",
   "execution_count": 255,
   "metadata": {},
   "outputs": [],
   "source": [
    "df['overall_rating'],df['avg_prof_rating'] = zip(*df['url'].apply(get_ratings))"
   ]
  },
  {
   "cell_type": "markdown",
   "metadata": {},
   "source": [
    "Get number of ratings"
   ]
  },
  {
   "cell_type": "code",
   "execution_count": 286,
   "metadata": {
    "collapsed": true
   },
   "outputs": [],
   "source": [
    "def num_ratings(url):\n",
    "    '''Get number of ratings for a school given school url using bs4'''\n",
    "    from bs4 import BeautifulSoup\n",
    "    import requests\n",
    "    import numpy as np\n",
    "    headers={'User-Agent': 'Mozilla/5.0'}\n",
    "    req = requests.get(url, headers = headers)\n",
    "    soup = BeautifulSoup(req.text,'lxml')\n",
    "    try:\n",
    "        num_ratings = soup.find(class_='table-toggle rating-count active h1').text.replace(' School Ratings','')\n",
    "    except:\n",
    "        num_ratings = np.nan\n",
    "    return num_ratings"
   ]
  },
  {
   "cell_type": "code",
   "execution_count": 287,
   "metadata": {},
   "outputs": [],
   "source": [
    "df['num_ratings'] = df['url'].apply(num_ratings)"
   ]
  },
  {
   "cell_type": "code",
   "execution_count": 296,
   "metadata": {},
   "outputs": [],
   "source": [
    "# get rid of null rows\n",
    "df.drop([0,8],inplace=True)\n",
    "df.reset_index(drop=True,inplace=True)"
   ]
  },
  {
   "cell_type": "markdown",
   "metadata": {},
   "source": [
    "Get all the subratings"
   ]
  },
  {
   "cell_type": "code",
   "execution_count": 335,
   "metadata": {
    "collapsed": true
   },
   "outputs": [],
   "source": [
    "def sub_ratings(url):\n",
    "    soup = get_soup(url)\n",
    "    ratings_set = soup.find(class_='quality-breakdown').find_all(class_='score')\n",
    "    ratings = [r.text for r in ratings_set]\n",
    "    return ratings"
   ]
  },
  {
   "cell_type": "code",
   "execution_count": 336,
   "metadata": {},
   "outputs": [],
   "source": [
    "df['clubs'],df['facilities'],df['food'],df['happiness'],df['internet'],df['location'],df['opportunity'],df['reputation'],df['safety'],df['social']  = zip(*df['url'].apply(sub_ratings))"
   ]
  },
  {
   "cell_type": "code",
   "execution_count": 360,
   "metadata": {
    "collapsed": true
   },
   "outputs": [],
   "source": [
    "def campus(s):\n",
    "    trimmed = s.split('University')[-1].replace(',','').replace('-','').strip()\n",
    "    return trimmed"
   ]
  },
  {
   "cell_type": "code",
   "execution_count": 362,
   "metadata": {},
   "outputs": [],
   "source": [
    "df['campus']=df['school'].apply(campus)"
   ]
  },
  {
   "cell_type": "code",
   "execution_count": 369,
   "metadata": {},
   "outputs": [],
   "source": [
    "df.loc[8,'campus']='Bakersfield'"
   ]
  },
  {
   "cell_type": "markdown",
   "metadata": {},
   "source": [
    "Save dataframe to database"
   ]
  },
  {
   "cell_type": "code",
   "execution_count": null,
   "metadata": {
    "collapsed": true
   },
   "outputs": [],
   "source": [
    "# import sqlite3\n",
    "# con = sqlite3.connect('data.db')\n",
    "# df.to_sql('ratings',con)\n",
    "# con.close()"
   ]
  },
  {
   "cell_type": "markdown",
   "metadata": {},
   "source": [
    "Gather data from output side "
   ]
  }
 ],
 "metadata": {
  "kernelspec": {
   "display_name": "Python 3",
   "language": "python",
   "name": "python3"
  },
  "language_info": {
   "codemirror_mode": {
    "name": "ipython",
    "version": 3
   },
   "file_extension": ".py",
   "mimetype": "text/x-python",
   "name": "python",
   "nbconvert_exporter": "python",
   "pygments_lexer": "ipython3",
   "version": "3.5.2"
  }
 },
 "nbformat": 4,
 "nbformat_minor": 2
}
